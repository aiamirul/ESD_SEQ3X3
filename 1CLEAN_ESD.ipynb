{
 "cells": [
  {
   "cell_type": "code",
   "execution_count": 8,
   "metadata": {},
   "outputs": [],
   "source": [
    "import pandas as pd"
   ]
  },
  {
   "cell_type": "code",
   "execution_count": 9,
   "metadata": {},
   "outputs": [
    {
     "name": "stderr",
     "output_type": "stream",
     "text": [
      "/tmp/ipykernel_2423329/2992614436.py:15: SettingWithCopyWarning: \n",
      "A value is trying to be set on a copy of a slice from a DataFrame.\n",
      "Try using .loc[row_indexer,col_indexer] = value instead\n",
      "\n",
      "See the caveats in the documentation: https://pandas.pydata.org/pandas-docs/stable/user_guide/indexing.html#returning-a-view-versus-a-copy\n",
      "  ESD[\"uid\"] = ESD.apply(lambda row: f\"T{str(row['trk']).zfill(3)}{row['label']}\", axis=1)\n"
     ]
    }
   ],
   "source": [
    "df = pd.read_csv(\"ALLDATA.csv\",low_memory=False)\n",
    "# Replace 'BL' and 'BR' with 'back'\n",
    "df.loc[df['label'].isin(['BL', 'BR','BACK']), 'label'] = 'BACK'\n",
    "# df.loc[df['label'].isin(['FR', 'FL',\"FLV\", \"FRV\"]), 'label'] = 'FRONT'\n",
    "df.loc[df['label'].isin(['FLD', 'LEFTVD', 'LEFTD',\"FRD\"]), 'label'] = 'DRONE'\n",
    "df.loc[df['label'].isin(['LEFT',\"LEFTV\"]), 'label'] = 'LEFT'\n",
    "df.loc[df['label'].isin(['RIGHT']), 'label'] = 'RIGHT'\n",
    "df.loc[df['label'].isin(['CANCEL',\"CANCELV\"]), 'label'] = 'CANCEL'\n",
    "# List of labels to drop\n",
    "labels_to_drop = ['ERROR-VIDEO', 'FRV2', 'RIGHTS',\n",
    "       'ERROR-VIDEOV','UNRELATEDV','UNRELATED','OD','CANCEL']\n",
    "# Drop rows where 'label' is in the list\n",
    "df = df[~df['label'].isin(labels_to_drop)]\n",
    "ESD = df[df[\"type\"] == \"ESD\"]\n",
    "ESD[\"uid\"] = ESD.apply(lambda row: f\"T{str(row['trk']).zfill(3)}{row['label']}\", axis=1)\n",
    "\n"
   ]
  },
  {
   "cell_type": "code",
   "execution_count": 15,
   "metadata": {},
   "outputs": [
    {
     "name": "stderr",
     "output_type": "stream",
     "text": [
      "/tmp/ipykernel_2423329/3491525239.py:5: SettingWithCopyWarning: \n",
      "A value is trying to be set on a copy of a slice from a DataFrame\n",
      "\n",
      "See the caveats in the documentation: https://pandas.pydata.org/pandas-docs/stable/user_guide/indexing.html#returning-a-view-versus-a-copy\n",
      "  T1.rename(columns={'startframe': 'start', 'endframe': 'end', 'uid' : 'label'}, inplace=True)\n"
     ]
    }
   ],
   "source": [
    "labels = ESD[[\"raceid\",\"trk\",\"uid\",\"startframe\",\"endframe\"]]\n",
    "T1 =  labels[labels[\"trk\"] == 1]\n",
    "# T1 =  T1[T1[\"uid\"] != \"T001FR\"]\n",
    "# T1 =  T1[T1[\"uid\"] != \"T001FRV\"]\n",
    "T1.rename(columns={'startframe': 'start', 'endframe': 'end', 'uid' : 'label'}, inplace=True)\n"
   ]
  },
  {
   "cell_type": "code",
   "execution_count": 17,
   "metadata": {},
   "outputs": [
    {
     "data": {
      "text/plain": [
       "label\n",
       "T001FRV      2412\n",
       "T001FR       2252\n",
       "T001FL        329\n",
       "T001LEFT      152\n",
       "T001DRONE     152\n",
       "T001BACK      147\n",
       "T001FLV        66\n",
       "T001RIGHT       6\n",
       "T001FRONT       6\n",
       "Name: count, dtype: int64"
      ]
     },
     "execution_count": 17,
     "metadata": {},
     "output_type": "execute_result"
    }
   ],
   "source": [
    "T1[\"label\"].value_counts()"
   ]
  },
  {
   "cell_type": "code",
   "execution_count": 18,
   "metadata": {},
   "outputs": [],
   "source": [
    "ESDSEQ = T1[[\"raceid\",\"label\",\"start\",\"end\"]]"
   ]
  },
  {
   "cell_type": "code",
   "execution_count": 19,
   "metadata": {},
   "outputs": [
    {
     "data": {
      "text/html": [
       "<div>\n",
       "<style scoped>\n",
       "    .dataframe tbody tr th:only-of-type {\n",
       "        vertical-align: middle;\n",
       "    }\n",
       "\n",
       "    .dataframe tbody tr th {\n",
       "        vertical-align: top;\n",
       "    }\n",
       "\n",
       "    .dataframe thead th {\n",
       "        text-align: right;\n",
       "    }\n",
       "</style>\n",
       "<table border=\"1\" class=\"dataframe\">\n",
       "  <thead>\n",
       "    <tr style=\"text-align: right;\">\n",
       "      <th></th>\n",
       "      <th>raceid</th>\n",
       "      <th>label</th>\n",
       "      <th>start</th>\n",
       "      <th>end</th>\n",
       "    </tr>\n",
       "  </thead>\n",
       "  <tbody>\n",
       "    <tr>\n",
       "      <th>0</th>\n",
       "      <td>2021041700105</td>\n",
       "      <td>T001FRV</td>\n",
       "      <td>16020</td>\n",
       "      <td>16255</td>\n",
       "    </tr>\n",
       "    <tr>\n",
       "      <th>5</th>\n",
       "      <td>2023010100106</td>\n",
       "      <td>T001FRV</td>\n",
       "      <td>8425</td>\n",
       "      <td>9155</td>\n",
       "    </tr>\n",
       "    <tr>\n",
       "      <th>6</th>\n",
       "      <td>2023091700108</td>\n",
       "      <td>T001LEFT</td>\n",
       "      <td>6845</td>\n",
       "      <td>7135</td>\n",
       "    </tr>\n",
       "    <tr>\n",
       "      <th>18</th>\n",
       "      <td>2023090900105</td>\n",
       "      <td>T001FRV</td>\n",
       "      <td>6565</td>\n",
       "      <td>6780</td>\n",
       "    </tr>\n",
       "    <tr>\n",
       "      <th>25</th>\n",
       "      <td>2022112000104</td>\n",
       "      <td>T001FLV</td>\n",
       "      <td>5545</td>\n",
       "      <td>5880</td>\n",
       "    </tr>\n",
       "    <tr>\n",
       "      <th>...</th>\n",
       "      <td>...</td>\n",
       "      <td>...</td>\n",
       "      <td>...</td>\n",
       "      <td>...</td>\n",
       "    </tr>\n",
       "    <tr>\n",
       "      <th>62246</th>\n",
       "      <td>2024051500104</td>\n",
       "      <td>T001FL</td>\n",
       "      <td>6655</td>\n",
       "      <td>7040</td>\n",
       "    </tr>\n",
       "    <tr>\n",
       "      <th>62247</th>\n",
       "      <td>2024051500104</td>\n",
       "      <td>T001FR</td>\n",
       "      <td>7475</td>\n",
       "      <td>8175</td>\n",
       "    </tr>\n",
       "    <tr>\n",
       "      <th>69877</th>\n",
       "      <td>2021040600106</td>\n",
       "      <td>T001BACK</td>\n",
       "      <td>10710</td>\n",
       "      <td>10855</td>\n",
       "    </tr>\n",
       "    <tr>\n",
       "      <th>69878</th>\n",
       "      <td>2021040600106</td>\n",
       "      <td>T001FR</td>\n",
       "      <td>10870</td>\n",
       "      <td>11195</td>\n",
       "    </tr>\n",
       "    <tr>\n",
       "      <th>69879</th>\n",
       "      <td>2021050700107</td>\n",
       "      <td>T001FR</td>\n",
       "      <td>22010</td>\n",
       "      <td>22210</td>\n",
       "    </tr>\n",
       "  </tbody>\n",
       "</table>\n",
       "<p>5522 rows × 4 columns</p>\n",
       "</div>"
      ],
      "text/plain": [
       "              raceid     label  start    end\n",
       "0      2021041700105   T001FRV  16020  16255\n",
       "5      2023010100106   T001FRV   8425   9155\n",
       "6      2023091700108  T001LEFT   6845   7135\n",
       "18     2023090900105   T001FRV   6565   6780\n",
       "25     2022112000104   T001FLV   5545   5880\n",
       "...              ...       ...    ...    ...\n",
       "62246  2024051500104    T001FL   6655   7040\n",
       "62247  2024051500104    T001FR   7475   8175\n",
       "69877  2021040600106  T001BACK  10710  10855\n",
       "69878  2021040600106    T001FR  10870  11195\n",
       "69879  2021050700107    T001FR  22010  22210\n",
       "\n",
       "[5522 rows x 4 columns]"
      ]
     },
     "execution_count": 19,
     "metadata": {},
     "output_type": "execute_result"
    }
   ],
   "source": [
    "ESDSEQ"
   ]
  },
  {
   "cell_type": "code",
   "execution_count": 20,
   "metadata": {},
   "outputs": [],
   "source": [
    "ESDSEQ.to_csv(\"ESD_SEQ.csv\")"
   ]
  },
  {
   "cell_type": "code",
   "execution_count": null,
   "metadata": {},
   "outputs": [],
   "source": []
  },
  {
   "cell_type": "code",
   "execution_count": null,
   "metadata": {},
   "outputs": [],
   "source": []
  }
 ],
 "metadata": {
  "kernelspec": {
   "display_name": "p312yolov8",
   "language": "python",
   "name": "python3"
  },
  "language_info": {
   "codemirror_mode": {
    "name": "ipython",
    "version": 3
   },
   "file_extension": ".py",
   "mimetype": "text/x-python",
   "name": "python",
   "nbconvert_exporter": "python",
   "pygments_lexer": "ipython3",
   "version": "3.12.7"
  }
 },
 "nbformat": 4,
 "nbformat_minor": 2
}
