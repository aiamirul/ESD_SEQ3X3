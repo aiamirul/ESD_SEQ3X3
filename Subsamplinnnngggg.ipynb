{
 "cells": [
  {
   "cell_type": "code",
   "execution_count": 1,
   "metadata": {},
   "outputs": [
    {
     "name": "stdout",
     "output_type": "stream",
     "text": [
      "Images successfully organized into subfolders!\n"
     ]
    }
   ],
   "source": [
    "import os\n",
    "import shutil\n",
    "\n",
    "# Path to the folder with 50k images\n",
    "source_folder = \"/home/amir/project/bitbucket/ESD/ESDSEQ_DATA_TEST/SQ3/T001FR\"\n",
    "destination_folder = \"CLEANING_T001FR\"\n",
    "\n",
    "# Number of images per subfolder\n",
    "images_per_folder = 10000\n",
    "\n",
    "# Get all files in the source folder\n",
    "all_images = sorted([f for f in os.listdir(source_folder) if os.path.isfile(os.path.join(source_folder, f))])\n",
    "\n",
    "# Create subfolders and distribute images\n",
    "for i in range(0, len(all_images), images_per_folder):\n",
    "    folder_index = (i // images_per_folder) + 1\n",
    "    subfolder_name = f\"subfolder_{folder_index}\"\n",
    "    subfolder_path = os.path.join(destination_folder, subfolder_name)\n",
    "\n",
    "    # Create the subfolder\n",
    "    os.makedirs(subfolder_path, exist_ok=True)\n",
    "\n",
    "    # Move images to the subfolder\n",
    "    for image in all_images[i:i + images_per_folder]:\n",
    "        shutil.move(os.path.join(source_folder, image), os.path.join(subfolder_path, image))\n",
    "\n",
    "print(\"Images successfully organized into subfolders!\")\n"
   ]
  },
  {
   "cell_type": "code",
   "execution_count": null,
   "metadata": {},
   "outputs": [],
   "source": []
  },
  {
   "cell_type": "code",
   "execution_count": null,
   "metadata": {},
   "outputs": [],
   "source": []
  },
  {
   "cell_type": "code",
   "execution_count": null,
   "metadata": {},
   "outputs": [],
   "source": []
  },
  {
   "cell_type": "code",
   "execution_count": null,
   "metadata": {},
   "outputs": [],
   "source": []
  }
 ],
 "metadata": {
  "kernelspec": {
   "display_name": "p312yolov8",
   "language": "python",
   "name": "python3"
  },
  "language_info": {
   "codemirror_mode": {
    "name": "ipython",
    "version": 3
   },
   "file_extension": ".py",
   "mimetype": "text/x-python",
   "name": "python",
   "nbconvert_exporter": "python",
   "pygments_lexer": "ipython3",
   "version": "3.12.7"
  }
 },
 "nbformat": 4,
 "nbformat_minor": 2
}
