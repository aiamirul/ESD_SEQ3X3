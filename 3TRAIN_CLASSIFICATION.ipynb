{
 "cells": [
  {
   "cell_type": "code",
   "execution_count": null,
   "metadata": {},
   "outputs": [],
   "source": [
    "\n",
    "data_path = \"/home/amir/project/bitbucket/ESD/TRAINING_DATA\"\n",
    "inputreso = 320\n",
    "model = \"x\"\n",
    "!yolo task=classify mode=train model=yolov8{model}-cls.pt data='{data_path}' epochs=20 imgsz={inputreso} batch=300 auto_augment=False translate=0 mosaic=0 perspective=0 scale=0 workers=20 degrees=0 project=\"ESD_SEQ3X3\" name=\"ESD_SEQ3X3{model}{inputreso}\" device=0"
   ]
  },
  {
   "cell_type": "code",
   "execution_count": null,
   "metadata": {},
   "outputs": [],
   "source": [
    "SAVED_MDL =\"/media/infer/SSDC/DRONE_DETECTOR/LABELMAKER/DRONE_SEQ3X3/DRONESENSEx320\"\n",
    "!yolo task=classify mode=val model=\"{SAVED_MDL}/weights/best.pt\" data='{data_path}' batch=300 workers=20 device=0,1 project=\"DRONE_SEQ3X3\" name=\"{SAVED_MDL}/VALIDATION\"\n"
   ]
  },
  {
   "cell_type": "code",
   "execution_count": null,
   "metadata": {},
   "outputs": [],
   "source": [
    "\"/media/infer/SSDC/DRONE_DETECTOR/LABELMAKER/DRONE_SEQ3X3/DRONESENSEx320/weights/best.pt\""
   ]
  }
 ],
 "metadata": {
  "kernelspec": {
   "display_name": "p312yolov8",
   "language": "python",
   "name": "python3"
  },
  "language_info": {
   "codemirror_mode": {
    "name": "ipython",
    "version": 3
   },
   "file_extension": ".py",
   "mimetype": "text/x-python",
   "name": "python",
   "nbconvert_exporter": "python",
   "pygments_lexer": "ipython3",
   "version": "3.12.7"
  }
 },
 "nbformat": 4,
 "nbformat_minor": 2
}
