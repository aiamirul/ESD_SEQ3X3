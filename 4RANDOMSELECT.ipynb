{
 "cells": [
  {
   "cell_type": "code",
   "execution_count": 5,
   "metadata": {},
   "outputs": [],
   "source": [
    "import glob\n",
    "import random\n",
    "import shutil\n",
    "import os\n",
    "from concurrent.futures import ThreadPoolExecutor\n",
    "\n",
    "def copy_file(file_path, dest_dir):\n",
    "    \"\"\"Function to copy a single file.\"\"\"\n",
    "    try:\n",
    "        shutil.copy(file_path, dest_dir)\n",
    "        print(f\"Copied: {file_path}\")\n",
    "    except Exception as e:\n",
    "        print(f\"Error copying {file_path}: {e}\")\n",
    "\n",
    "def random_copy_images_multithread(src_dir, dest_dir, num_samples, num_threads=4):\n",
    "    # Get a list of all JPG files in the source directory\n",
    "    jpg_files = glob.glob(os.path.join(src_dir, \"*.jpg\"))\n",
    "\n",
    "    # Ensure there are enough files to sample\n",
    "    if len(jpg_files) < num_samples:\n",
    "        print(f\"Not enough files to sample. Only {len(jpg_files)} available.\")\n",
    "        return\n",
    "    # Randomly select the specified number of files\n",
    "    selected_files = random.sample(jpg_files, num_samples)\n",
    "\n",
    "    # Create destination directory if it doesn't exist\n",
    "    os.makedirs(dest_dir, exist_ok=True)\n",
    "\n",
    "    # Use ThreadPoolExecutor for multithreading\n",
    "    with ThreadPoolExecutor(max_workers=num_threads) as executor:\n",
    "        # Submit copy tasks for each selected file\n",
    "        for file_path in selected_files:\n",
    "            executor.submit(copy_file, file_path, dest_dir)\n"
   ]
  },
  {
   "cell_type": "code",
   "execution_count": 6,
   "metadata": {},
   "outputs": [
    {
     "data": {
      "text/plain": [
       "['/home/amir/project/bitbucket/ESD/CLEANED/SQ3/T001FR',\n",
       " '/home/amir/project/bitbucket/ESD/CLEANED/SQ3/T001BACK',\n",
       " '/home/amir/project/bitbucket/ESD/CLEANED/SQ3/T001DRONE',\n",
       " '/home/amir/project/bitbucket/ESD/CLEANED/SQ3/T001FL',\n",
       " '/home/amir/project/bitbucket/ESD/CLEANED/SQ3/T001FRONT']"
      ]
     },
     "execution_count": 6,
     "metadata": {},
     "output_type": "execute_result"
    }
   ],
   "source": [
    "import glob\n",
    "daatapath = \"/home/amir/project/bitbucket/ESD/CLEANED/SQ3\"\n",
    "labels = glob.glob(daatapath+\"/*\")\n",
    "labels"
   ]
  },
  {
   "cell_type": "code",
   "execution_count": 7,
   "metadata": {},
   "outputs": [],
   "source": [
    "# # Usage example\n",
    "# source_directory = \"/home/amir/project/bitbucket/ESD/CLEANED\"\n",
    "# destination_directory = \"/home/amir/project/bitbucket/ESD/TRAINDATA\"\n",
    "# number_of_samples = 3096\n",
    "# threads = 8\n",
    "# random_copy_images_multithread(source_directory, destination_directory, number_of_samples, threads)"
   ]
  },
  {
   "cell_type": "code",
   "execution_count": null,
   "metadata": {},
   "outputs": [],
   "source": []
  },
  {
   "cell_type": "code",
   "execution_count": null,
   "metadata": {},
   "outputs": [],
   "source": []
  },
  {
   "cell_type": "code",
   "execution_count": null,
   "metadata": {},
   "outputs": [],
   "source": []
  },
  {
   "cell_type": "code",
   "execution_count": 8,
   "metadata": {},
   "outputs": [
    {
     "name": "stdout",
     "output_type": "stream",
     "text": [
      "Dataset split completed!\n"
     ]
    }
   ],
   "source": [
    "import os\n",
    "import shutil\n",
    "import random\n",
    "from pathlib import Path\n",
    "\n",
    "def train_test_split(source_dir, output_dir, val_ratio=0.2):\n",
    "    source_dir = Path(source_dir)\n",
    "    train_dir = Path(output_dir) / \"train\"\n",
    "    val_dir = Path(output_dir) / \"val\"\n",
    "    \n",
    "    for class_folder in source_dir.iterdir():\n",
    "        if class_folder.is_dir():\n",
    "            class_name = class_folder.name\n",
    "            images = list(class_folder.glob(\"*\"))  # List all files\n",
    "            random.shuffle(images)\n",
    "            \n",
    "            split_idx = int(len(images) * (1 - val_ratio))\n",
    "            train_images = images[:split_idx]\n",
    "            val_images = images[split_idx:]\n",
    "            \n",
    "            # Create class directories in train and val\n",
    "            (train_dir / class_name).mkdir(parents=True, exist_ok=True)\n",
    "            (val_dir / class_name).mkdir(parents=True, exist_ok=True)\n",
    "            \n",
    "            # Move images to respective folders\n",
    "            for img in train_images:\n",
    "                shutil.copy(img, train_dir / class_name / img.name)\n",
    "            for img in val_images:\n",
    "                shutil.copy(img, val_dir / class_name / img.name)\n",
    "    \n",
    "    print(\"Dataset split completed!\")\n",
    "\n",
    "# Example usage\n",
    "\n",
    "daatapath = \"/home/amir/project/bitbucket/ESD/CLEANED/SQ3\"\n",
    "output = \"TRAINING_DATA\"\n",
    "train_test_split(daatapath, output, val_ratio=0.3)\n"
   ]
  },
  {
   "cell_type": "code",
   "execution_count": null,
   "metadata": {},
   "outputs": [],
   "source": []
  }
 ],
 "metadata": {
  "kernelspec": {
   "display_name": "p312yolov8",
   "language": "python",
   "name": "python3"
  },
  "language_info": {
   "codemirror_mode": {
    "name": "ipython",
    "version": 3
   },
   "file_extension": ".py",
   "mimetype": "text/x-python",
   "name": "python",
   "nbconvert_exporter": "python",
   "pygments_lexer": "ipython3",
   "version": "3.12.7"
  }
 },
 "nbformat": 4,
 "nbformat_minor": 2
}
